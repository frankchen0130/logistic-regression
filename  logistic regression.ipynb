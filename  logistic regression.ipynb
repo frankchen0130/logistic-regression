{
 "cells": [
  {
   "cell_type": "markdown",
   "metadata": {},
   "source": [
    "# 载入数据"
   ]
  },
  {
   "cell_type": "code",
   "execution_count": null,
   "metadata": {
    "collapsed": false
   },
   "outputs": [],
   "source": [
    "import numpy as np\n",
    "train_data = np.loadtxt('train.dat')\n",
    "test_data = np.loadtxt('test.dat')"
   ]
  },
  {
   "cell_type": "code",
   "execution_count": null,
   "metadata": {
    "collapsed": true
   },
   "outputs": [],
   "source": [
    "def slice_matrix_to_x_and_y(a):\n",
    "    return a[:,:-1], a[:,-1]"
   ]
  },
  {
   "cell_type": "markdown",
   "metadata": {},
   "source": [
    "# 激活函数"
   ]
  },
  {
   "cell_type": "code",
   "execution_count": null,
   "metadata": {
    "collapsed": true
   },
   "outputs": [],
   "source": [
    "def sigmod(a):\n",
    "    a = 1 /(1 + np.exp(-a))\n",
    "    return a"
   ]
  },
  {
   "cell_type": "markdown",
   "metadata": {},
   "source": [
    "# 代价函数"
   ]
  },
  {
   "cell_type": "code",
   "execution_count": null,
   "metadata": {
    "collapsed": false
   },
   "outputs": [],
   "source": [
    "def error_function(w, x, y):\n",
    "    sum = 0\n",
    "    i = 0\n",
    "    for i in range(x.shape[0]):\n",
    "        dot_product_of_row = np.dot(x[i,:].transpose(), w) * y[i]\n",
    "        a = - np.log(sigmod(dot_product_of_row))\n",
    "        sum += a\n",
    "    return sum / i"
   ]
  },
  {
   "cell_type": "markdown",
   "metadata": {},
   "source": [
    " # 计算梯度"
   ]
  },
  {
   "cell_type": "code",
   "execution_count": null,
   "metadata": {
    "collapsed": false
   },
   "outputs": [],
   "source": [
    "def calculate_gradient_of_w(w, x, y):\n",
    "    sum = 0\n",
    "    i = 0\n",
    "    for i in range(x.shape[0]):\n",
    "        dot_product_of_row = np.dot(x[i,:].transpose(), w) * y[i]\n",
    "        a = sigmod( - dot_product_of_row) * (-y[i] * x[i,:])\n",
    "        a.shape = (20, 1)\n",
    "        sum += a\n",
    "    return sum / i    "
   ]
  },
  {
   "cell_type": "markdown",
   "metadata": {},
   "source": [
    "# 计算V"
   ]
  },
  {
   "cell_type": "code",
   "execution_count": null,
   "metadata": {
    "collapsed": true
   },
   "outputs": [],
   "source": [
    "def get_v(w, x, y):\n",
    "    gradident = calculate_gradient_of_w(w, x, y)\n",
    "    a = - gradident / np.linalg.norm(gradident)\n",
    "    return a"
   ]
  },
  {
   "cell_type": "markdown",
   "metadata": {},
   "source": [
    "# 切分得到训练数据和测试数据"
   ]
  },
  {
   "cell_type": "code",
   "execution_count": null,
   "metadata": {
    "collapsed": false
   },
   "outputs": [],
   "source": [
    "train_data_x, train_data_y = slice_matrix_to_x_and_y(train_data)\n",
    "test_data_x, test_data_y = slice_matrix_to_x_and_y(test_data)\n",
    "# test_data_x.shape"
   ]
  },
  {
   "cell_type": "markdown",
   "metadata": {},
   "source": [
    "# 定义参数"
   ]
  },
  {
   "cell_type": "code",
   "execution_count": null,
   "metadata": {
    "collapsed": false
   },
   "outputs": [],
   "source": [
    "w = np.zeros((20, 1), dtype=float)\n",
    "# print w\n",
    "x = train_data_x\n",
    "y = train_data_y\n",
    "eta = 0.01"
   ]
  },
  {
   "cell_type": "markdown",
   "metadata": {},
   "source": [
    "# 开始训练"
   ]
  },
  {
   "cell_type": "code",
   "execution_count": null,
   "metadata": {
    "collapsed": false
   },
   "outputs": [],
   "source": [
    "E_in_0 = error_function(w, x, y)\n",
    "E_out_0 = error_function(w, test_data_x, test_data_y)\n",
    "print \"Before training, the in-sample error is:\", float(E_in_0), \"the out-sample error is:\", float(E_out_0)\n",
    "\n",
    "for i in range(20000):\n",
    "#     w = w + eta * get_v(w, x, y)\n",
    "    w = w - eta * calculate_gradient_of_w(w, x, y)\n",
    "    e = error_function(w, x, y)\n",
    "    print \"E_in of the %i th Iteration is: \" %i, e\n",
    "print \"The finally w is: \"\n",
    "print w\n",
    "E_in = error_function(w, x, y)\n",
    "E_out = error_function(w, test_data_x, test_data_y)\n",
    "print \"After training, the in-sample error is:\", float(E_in), \"the out-sample error is:\", float(E_out)\n"
   ]
  },
  {
   "cell_type": "code",
   "execution_count": null,
   "metadata": {
    "collapsed": true
   },
   "outputs": [],
   "source": []
  }
 ],
 "metadata": {
  "kernelspec": {
   "display_name": "Python 2",
   "language": "python",
   "name": "python2"
  },
  "language_info": {
   "codemirror_mode": {
    "name": "ipython",
    "version": 2
   },
   "file_extension": ".py",
   "mimetype": "text/x-python",
   "name": "python",
   "nbconvert_exporter": "python",
   "pygments_lexer": "ipython2",
   "version": "2.7.10"
  }
 },
 "nbformat": 4,
 "nbformat_minor": 0
}
